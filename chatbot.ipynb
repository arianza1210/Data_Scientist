{
  "nbformat": 4,
  "nbformat_minor": 0,
  "metadata": {
    "colab": {
      "provenance": [],
      "authorship_tag": "ABX9TyNCebpxvIzDNXucBtQsf3ND"
    },
    "kernelspec": {
      "name": "python3",
      "display_name": "Python 3"
    },
    "language_info": {
      "name": "python"
    }
  },
  "cells": [
    {
      "cell_type": "code",
      "execution_count": 2,
      "metadata": {
        "colab": {
          "base_uri": "https://localhost:8080/"
        },
        "id": "FLRyiK4zjRrK",
        "outputId": "d307436e-5755-4343-b636-6e927f4e177a"
      },
      "outputs": [
        {
          "output_type": "stream",
          "name": "stdout",
          "text": [
            "Drive already mounted at /content/drive; to attempt to forcibly remount, call drive.mount(\"/content/drive\", force_remount=True).\n"
          ]
        }
      ],
      "source": [
        "from google.colab import drive\n",
        "drive.mount('/content/drive')"
      ]
    },
    {
      "cell_type": "code",
      "source": [
        "!pip install -q SpeechRecognition"
      ],
      "metadata": {
        "colab": {
          "base_uri": "https://localhost:8080/"
        },
        "id": "y6kJMCZlKYlu",
        "outputId": "558ed3a1-d9aa-48bc-d34d-ee08827d9c5a"
      },
      "execution_count": 10,
      "outputs": [
        {
          "output_type": "stream",
          "name": "stdout",
          "text": [
            "\u001b[2K     \u001b[90m━━━━━━━━━━━━━━━━━━━━━━━━━━━━━━━━━━━━━━━━\u001b[0m \u001b[32m32.8/32.8 MB\u001b[0m \u001b[31m37.5 MB/s\u001b[0m eta \u001b[36m0:00:00\u001b[0m\n",
            "\u001b[?25h"
          ]
        }
      ]
    },
    {
      "cell_type": "code",
      "source": [
        "#impport library\n",
        "import json\n",
        "import nltk\n",
        "import time\n",
        "import random\n",
        "import string\n",
        "import pickle\n",
        "import numpy as np\n",
        "import pandas as pd\n",
        "from gtts import  gTTS\n",
        "from io import BytesIO\n",
        "import tensorflow as tf\n",
        "import IPython.display as ipd\n",
        "import speech_recognition as sr \n",
        "import matplotlib.pyplot as plt\n",
        "from nltk.stem import WordNetLemmatizer\n",
        "from tensorflow.keras.models import Model\n",
        "from keras.utils.vis_utils import plot_model\n",
        "from sklearn.preprocessing import LabelEncoder\n",
        "from tensorflow.keras.preprocessing.text import Tokenizer\n",
        "from tensorflow.keras.layers import Input, Embedding, LSTM\n",
        "from tensorflow.keras.preprocessing.sequence import pad_sequences\n",
        "from tensorflow.keras.layers import Flatten, Dense, GlobalMaxPool1D"
      ],
      "metadata": {
        "id": "AVIho8DWJ6oN"
      },
      "execution_count": 11,
      "outputs": []
    },
    {
      "cell_type": "code",
      "source": [
        "#package tokenizer\n",
        "nltk.download('punkt')\n",
        "#package Lemmatization\n",
        "nltk.download('wordnet')\n",
        "#package multigual wordnet data\n",
        "nltk.download('omw-1.4')"
      ],
      "metadata": {
        "colab": {
          "base_uri": "https://localhost:8080/"
        },
        "id": "tKysEQKqLaKT",
        "outputId": "395c65b4-4e55-48e5-f203-e1c6529c888b"
      },
      "execution_count": 13,
      "outputs": [
        {
          "output_type": "stream",
          "name": "stderr",
          "text": [
            "[nltk_data] Downloading package punkt to /root/nltk_data...\n",
            "[nltk_data]   Package punkt is already up-to-date!\n",
            "[nltk_data] Downloading package wordnet to /root/nltk_data...\n",
            "[nltk_data]   Package wordnet is already up-to-date!\n",
            "[nltk_data] Downloading package omw-1.4 to /root/nltk_data...\n"
          ]
        },
        {
          "output_type": "execute_result",
          "data": {
            "text/plain": [
              "True"
            ]
          },
          "metadata": {},
          "execution_count": 13
        }
      ]
    },
    {
      "cell_type": "code",
      "source": [
        "# Importing the dataset\n",
        "with open('/content/drive/MyDrive/Dataset/anotasi/kb.json') as content:\n",
        "  data1 = json.load(content)\n",
        "\n",
        "# Mendapatkan semua data ke dalam list\n",
        "tags = [] # data tag\n",
        "inputs = [] # data input atau pattern\n",
        "responses = {} # data respon\n",
        "words = [] # Data kata \n",
        "classes = [] # Data Kelas atau Tag\n",
        "documents = [] # Data Kalimat Dokumen\n",
        "ignore_words = ['?', '!'] # Mengabaikan tanda spesial karakter\n",
        "\n",
        "for intent in data1['intents']:\n",
        "  responses[intent['tag']]=intent['responses']\n",
        "  for lines in intent['patterns']:\n",
        "    inputs.append(lines)\n",
        "    tags.append(intent['tag'])\n",
        "    for pattern in intent['patterns']:\n",
        "      w = nltk.word_tokenize(pattern)\n",
        "      words.extend(w)\n",
        "      documents.append((w, intent['tag']))\n",
        "      # add to our classes list\n",
        "      if intent['tag'] not in classes:\n",
        "        classes.append(intent['tag'])\n",
        "\n",
        "# Konversi data json ke dalam dataframe\n",
        "data = pd.DataFrame({\"patterns\":inputs, \"tags\":tags})"
      ],
      "metadata": {
        "id": "9TiF1sHXL2Rl"
      },
      "execution_count": 14,
      "outputs": []
    },
    {
      "cell_type": "code",
      "source": [
        "data.head()"
      ],
      "metadata": {
        "colab": {
          "base_uri": "https://localhost:8080/",
          "height": 206
        },
        "id": "05TiYx0BMF-n",
        "outputId": "73d8532b-e9ac-49f7-f31c-92f77bcf2dca"
      },
      "execution_count": 16,
      "outputs": [
        {
          "output_type": "execute_result",
          "data": {
            "text/plain": [
              "  patterns      tags\n",
              "0    hello  greeting\n",
              "1      hai  greeting\n",
              "2     helo  greeting\n",
              "3       hi  greeting\n",
              "4       hy  greeting"
            ],
            "text/html": [
              "\n",
              "  <div id=\"df-c3cf1a89-8360-4ccb-9b70-b596ea82ea5d\">\n",
              "    <div class=\"colab-df-container\">\n",
              "      <div>\n",
              "<style scoped>\n",
              "    .dataframe tbody tr th:only-of-type {\n",
              "        vertical-align: middle;\n",
              "    }\n",
              "\n",
              "    .dataframe tbody tr th {\n",
              "        vertical-align: top;\n",
              "    }\n",
              "\n",
              "    .dataframe thead th {\n",
              "        text-align: right;\n",
              "    }\n",
              "</style>\n",
              "<table border=\"1\" class=\"dataframe\">\n",
              "  <thead>\n",
              "    <tr style=\"text-align: right;\">\n",
              "      <th></th>\n",
              "      <th>patterns</th>\n",
              "      <th>tags</th>\n",
              "    </tr>\n",
              "  </thead>\n",
              "  <tbody>\n",
              "    <tr>\n",
              "      <th>0</th>\n",
              "      <td>hello</td>\n",
              "      <td>greeting</td>\n",
              "    </tr>\n",
              "    <tr>\n",
              "      <th>1</th>\n",
              "      <td>hai</td>\n",
              "      <td>greeting</td>\n",
              "    </tr>\n",
              "    <tr>\n",
              "      <th>2</th>\n",
              "      <td>helo</td>\n",
              "      <td>greeting</td>\n",
              "    </tr>\n",
              "    <tr>\n",
              "      <th>3</th>\n",
              "      <td>hi</td>\n",
              "      <td>greeting</td>\n",
              "    </tr>\n",
              "    <tr>\n",
              "      <th>4</th>\n",
              "      <td>hy</td>\n",
              "      <td>greeting</td>\n",
              "    </tr>\n",
              "  </tbody>\n",
              "</table>\n",
              "</div>\n",
              "      <button class=\"colab-df-convert\" onclick=\"convertToInteractive('df-c3cf1a89-8360-4ccb-9b70-b596ea82ea5d')\"\n",
              "              title=\"Convert this dataframe to an interactive table.\"\n",
              "              style=\"display:none;\">\n",
              "        \n",
              "  <svg xmlns=\"http://www.w3.org/2000/svg\" height=\"24px\"viewBox=\"0 0 24 24\"\n",
              "       width=\"24px\">\n",
              "    <path d=\"M0 0h24v24H0V0z\" fill=\"none\"/>\n",
              "    <path d=\"M18.56 5.44l.94 2.06.94-2.06 2.06-.94-2.06-.94-.94-2.06-.94 2.06-2.06.94zm-11 1L8.5 8.5l.94-2.06 2.06-.94-2.06-.94L8.5 2.5l-.94 2.06-2.06.94zm10 10l.94 2.06.94-2.06 2.06-.94-2.06-.94-.94-2.06-.94 2.06-2.06.94z\"/><path d=\"M17.41 7.96l-1.37-1.37c-.4-.4-.92-.59-1.43-.59-.52 0-1.04.2-1.43.59L10.3 9.45l-7.72 7.72c-.78.78-.78 2.05 0 2.83L4 21.41c.39.39.9.59 1.41.59.51 0 1.02-.2 1.41-.59l7.78-7.78 2.81-2.81c.8-.78.8-2.07 0-2.86zM5.41 20L4 18.59l7.72-7.72 1.47 1.35L5.41 20z\"/>\n",
              "  </svg>\n",
              "      </button>\n",
              "      \n",
              "  <style>\n",
              "    .colab-df-container {\n",
              "      display:flex;\n",
              "      flex-wrap:wrap;\n",
              "      gap: 12px;\n",
              "    }\n",
              "\n",
              "    .colab-df-convert {\n",
              "      background-color: #E8F0FE;\n",
              "      border: none;\n",
              "      border-radius: 50%;\n",
              "      cursor: pointer;\n",
              "      display: none;\n",
              "      fill: #1967D2;\n",
              "      height: 32px;\n",
              "      padding: 0 0 0 0;\n",
              "      width: 32px;\n",
              "    }\n",
              "\n",
              "    .colab-df-convert:hover {\n",
              "      background-color: #E2EBFA;\n",
              "      box-shadow: 0px 1px 2px rgba(60, 64, 67, 0.3), 0px 1px 3px 1px rgba(60, 64, 67, 0.15);\n",
              "      fill: #174EA6;\n",
              "    }\n",
              "\n",
              "    [theme=dark] .colab-df-convert {\n",
              "      background-color: #3B4455;\n",
              "      fill: #D2E3FC;\n",
              "    }\n",
              "\n",
              "    [theme=dark] .colab-df-convert:hover {\n",
              "      background-color: #434B5C;\n",
              "      box-shadow: 0px 1px 3px 1px rgba(0, 0, 0, 0.15);\n",
              "      filter: drop-shadow(0px 1px 2px rgba(0, 0, 0, 0.3));\n",
              "      fill: #FFFFFF;\n",
              "    }\n",
              "  </style>\n",
              "\n",
              "      <script>\n",
              "        const buttonEl =\n",
              "          document.querySelector('#df-c3cf1a89-8360-4ccb-9b70-b596ea82ea5d button.colab-df-convert');\n",
              "        buttonEl.style.display =\n",
              "          google.colab.kernel.accessAllowed ? 'block' : 'none';\n",
              "\n",
              "        async function convertToInteractive(key) {\n",
              "          const element = document.querySelector('#df-c3cf1a89-8360-4ccb-9b70-b596ea82ea5d');\n",
              "          const dataTable =\n",
              "            await google.colab.kernel.invokeFunction('convertToInteractive',\n",
              "                                                     [key], {});\n",
              "          if (!dataTable) return;\n",
              "\n",
              "          const docLinkHtml = 'Like what you see? Visit the ' +\n",
              "            '<a target=\"_blank\" href=https://colab.research.google.com/notebooks/data_table.ipynb>data table notebook</a>'\n",
              "            + ' to learn more about interactive tables.';\n",
              "          element.innerHTML = '';\n",
              "          dataTable['output_type'] = 'display_data';\n",
              "          await google.colab.output.renderOutput(dataTable, element);\n",
              "          const docLink = document.createElement('div');\n",
              "          docLink.innerHTML = docLinkHtml;\n",
              "          element.appendChild(docLink);\n",
              "        }\n",
              "      </script>\n",
              "    </div>\n",
              "  </div>\n",
              "  "
            ]
          },
          "metadata": {},
          "execution_count": 16
        }
      ]
    },
    {
      "cell_type": "code",
      "source": [
        "# Removing Punctuations (Menghilangkan Punktuasi)\n",
        "data['patterns'] = data['patterns'].apply(lambda wrd:[ltrs.lower() for ltrs in wrd if ltrs not in string.punctuation])\n",
        "data['patterns'] = data['patterns'].apply(lambda wrd: ''.join(wrd))"
      ],
      "metadata": {
        "id": "N2A6Y8bwMNAr"
      },
      "execution_count": 17,
      "outputs": []
    },
    {
      "cell_type": "code",
      "source": [
        "lemmatizer = WordNetLemmatizer()\n",
        "words = [lemmatizer.lemmatize(w.lower()) for w in words if w not in ignore_words]\n",
        "words = sorted(list(set(words)))\n",
        "\n",
        "print (len(words), \"unique lemmatized words\", words)"
      ],
      "metadata": {
        "colab": {
          "base_uri": "https://localhost:8080/"
        },
        "id": "WAtp-hIzMdk9",
        "outputId": "f39528e9-540f-45fa-a567-0b172328bc24"
      },
      "execution_count": 19,
      "outputs": [
        {
          "output_type": "stream",
          "name": "stdout",
          "text": [
            "9 unique lemmatized words ['apa', 'hai', 'hello', 'helo', 'hi', 'hy', 'itu', 'panbot', 'siapa']\n"
          ]
        }
      ]
    },
    {
      "cell_type": "code",
      "source": [
        "# sort classes\n",
        "classes = sorted(list(set(classes)))\n",
        "print (len(classes), \"classes\", classes)"
      ],
      "metadata": {
        "colab": {
          "base_uri": "https://localhost:8080/"
        },
        "id": "Y6hdz9EQMlsY",
        "outputId": "0c677532-c75d-497a-a5d7-53c0e6fdbd41"
      },
      "execution_count": 20,
      "outputs": [
        {
          "output_type": "stream",
          "name": "stdout",
          "text": [
            "2 classes ['greeting', 'panbot']\n"
          ]
        }
      ]
    },
    {
      "cell_type": "code",
      "source": [
        "# documents = combination between patterns and intents\n",
        "print (len(documents), \"documents\")"
      ],
      "metadata": {
        "colab": {
          "base_uri": "https://localhost:8080/"
        },
        "id": "r21gVw6gMhIo",
        "outputId": "09e5b2d4-e1f1-416d-b684-60fa52a53f84"
      },
      "execution_count": 21,
      "outputs": [
        {
          "output_type": "stream",
          "name": "stdout",
          "text": [
            "29 documents\n"
          ]
        }
      ]
    },
    {
      "cell_type": "code",
      "source": [
        "\n",
        "# Tokenize the data (Tokenisasi Data)\n",
        "tokenizer = Tokenizer(num_words=2000)\n",
        "tokenizer.fit_on_texts(data['patterns'])\n",
        "train = tokenizer.texts_to_sequences(data['patterns'])\n",
        "train"
      ],
      "metadata": {
        "colab": {
          "base_uri": "https://localhost:8080/"
        },
        "id": "OyUlZbpTMsgu",
        "outputId": "7de8eacd-1428-445d-c25f-dc11f8f3cf44"
      },
      "execution_count": 22,
      "outputs": [
        {
          "output_type": "execute_result",
          "data": {
            "text/plain": [
              "[[2], [3], [4], [5], [6], [7, 8, 1], [9, 1]]"
            ]
          },
          "metadata": {},
          "execution_count": 22
        }
      ]
    },
    {
      "cell_type": "code",
      "source": [
        "# Apply padding \n",
        "x_train = pad_sequences(train)\n",
        "print(x_train) # Padding Sequences"
      ],
      "metadata": {
        "colab": {
          "base_uri": "https://localhost:8080/"
        },
        "id": "E3C5c64hMviG",
        "outputId": "afccd1ea-cba3-4ec7-8fce-52ac7aa2474c"
      },
      "execution_count": 23,
      "outputs": [
        {
          "output_type": "stream",
          "name": "stdout",
          "text": [
            "[[0 0 2]\n",
            " [0 0 3]\n",
            " [0 0 4]\n",
            " [0 0 5]\n",
            " [0 0 6]\n",
            " [7 8 1]\n",
            " [0 9 1]]\n"
          ]
        }
      ]
    },
    {
      "cell_type": "code",
      "source": [
        "# Encoding the outputs \n",
        "le = LabelEncoder()\n",
        "y_train = le.fit_transform(data['tags'])\n",
        "print(y_train) #Label Encodings"
      ],
      "metadata": {
        "colab": {
          "base_uri": "https://localhost:8080/"
        },
        "id": "22944h7uM54a",
        "outputId": "47043305-3d5a-4f4a-909a-69559d15abc9"
      },
      "execution_count": 24,
      "outputs": [
        {
          "output_type": "stream",
          "name": "stdout",
          "text": [
            "[0 0 0 0 0 1 1]\n"
          ]
        }
      ]
    },
    {
      "cell_type": "code",
      "source": [
        "\n",
        "# input length\n",
        "input_shape = x_train.shape[1]\n",
        "print(input_shape)"
      ],
      "metadata": {
        "colab": {
          "base_uri": "https://localhost:8080/"
        },
        "id": "tacMYEKLM9c-",
        "outputId": "359a00ae-7a87-410e-f0ba-6f83244a9868"
      },
      "execution_count": 25,
      "outputs": [
        {
          "output_type": "stream",
          "name": "stdout",
          "text": [
            "3\n"
          ]
        }
      ]
    },
    {
      "cell_type": "code",
      "source": [
        "# define vocabulary\n",
        "vocabulary = len(tokenizer.word_index)\n",
        "print(\"number of unique words : \", vocabulary)\n",
        "\n",
        "# output length\n",
        "output_length = le.classes_.shape[0]\n",
        "print(\"output length: \", output_length)"
      ],
      "metadata": {
        "colab": {
          "base_uri": "https://localhost:8080/"
        },
        "id": "NizIOt5fNA1J",
        "outputId": "877ec59b-8a5d-461f-eb28-c0a506a4d920"
      },
      "execution_count": 26,
      "outputs": [
        {
          "output_type": "stream",
          "name": "stdout",
          "text": [
            "number of unique words :  9\n",
            "output length:  2\n"
          ]
        }
      ]
    },
    {
      "cell_type": "code",
      "source": [
        "\n",
        "pickle.dump(words, open('/content/drive/MyDrive/Dataset/model/words.pkl','wb'))\n",
        "pickle.dump(classes, open('/content/drive/MyDrive/Dataset/model/classes.pkl','wb'))"
      ],
      "metadata": {
        "id": "0fX8UmmaNDm0"
      },
      "execution_count": 32,
      "outputs": []
    },
    {
      "cell_type": "code",
      "source": [
        "pickle.dump(le, open('/content/drive/MyDrive/Dataset/model/le.pkl','wb'))\n",
        "pickle.dump(tokenizer, open('/content/drive/MyDrive/Dataset/model/tokenizers.pkl','wb'))\n"
      ],
      "metadata": {
        "id": "WNS8yeTvO-Ns"
      },
      "execution_count": 33,
      "outputs": []
    },
    {
      "cell_type": "markdown",
      "source": [
        "Neural Network Model"
      ],
      "metadata": {
        "id": "CvwHspmZPLTp"
      }
    },
    {
      "cell_type": "code",
      "source": [
        "# Creating the model (Membuat Modeling)\n",
        "i = Input(shape=(input_shape,))\n",
        "x = Embedding(vocabulary+1,10)(i) # Layer Embedding\n",
        "x = LSTM(10, return_sequences=True)(x) # Layer Long Short Term Memory\n",
        "x = Flatten()(x) # Layer Flatten\n",
        "x = Dense(output_length, activation=\"softmax\")(x) # Layer Dense\n",
        "model  = Model(i,x)\n",
        "\n",
        "# Compiling the model (Kompilasi Model)\n",
        "model.compile(loss=\"sparse_categorical_crossentropy\", optimizer='adam', metrics=['accuracy'])\n"
      ],
      "metadata": {
        "id": "TjQOgbdwPJAd"
      },
      "execution_count": 34,
      "outputs": []
    },
    {
      "cell_type": "code",
      "source": [
        "# Visualization Plot Architecture Model (Visualisasi Plot Arsitektur Model)\n",
        "plot_model(model, to_file='/content/model_plot.png', show_shapes=True, show_layer_names=True)"
      ],
      "metadata": {
        "colab": {
          "base_uri": "https://localhost:8080/",
          "height": 533
        },
        "id": "41iu5ubnPWes",
        "outputId": "40e7b636-2775-4119-93af-02e0161619f7"
      },
      "execution_count": 35,
      "outputs": [
        {
          "output_type": "execute_result",
          "data": {
            "image/png": "[encoded data removed]",
            "text/plain": [
              "<IPython.core.display.Image object>"
            ]
          },
          "metadata": {},
          "execution_count": 35
        }
      ]
    },
    {
      "cell_type": "code",
      "source": [
        "model.summary()"
      ],
      "metadata": {
        "colab": {
          "base_uri": "https://localhost:8080/"
        },
        "id": "1UFNnySlP1Xi",
        "outputId": "05ad008c-85db-4a58-bda1-e18c09d83d4b"
      },
      "execution_count": 36,
      "outputs": [
        {
          "output_type": "stream",
          "name": "stdout",
          "text": [
            "Model: \"model\"\n",
            "_________________________________________________________________\n",
            " Layer (type)                Output Shape              Param #   \n",
            "=================================================================\n",
            " input_1 (InputLayer)        [(None, 3)]               0         \n",
            "                                                                 \n",
            " embedding (Embedding)       (None, 3, 10)             100       \n",
            "                                                                 \n",
            " lstm (LSTM)                 (None, 3, 10)             840       \n",
            "                                                                 \n",
            " flatten (Flatten)           (None, 30)                0         \n",
            "                                                                 \n",
            " dense (Dense)               (None, 2)                 62        \n",
            "                                                                 \n",
            "=================================================================\n",
            "Total params: 1,002\n",
            "Trainable params: 1,002\n",
            "Non-trainable params: 0\n",
            "_________________________________________________________________\n"
          ]
        }
      ]
    },
    {
      "cell_type": "code",
      "source": [
        "# Training the model (Latih model data sampai 300 kali)\n",
        "train = model.fit(x_train, y_train, epochs=300)"
      ],
      "metadata": {
        "colab": {
          "base_uri": "https://localhost:8080/"
        },
        "id": "eujG3gN5P40f",
        "outputId": "385567a7-6510-4295-9af5-8887d9b2599b"
      },
      "execution_count": 41,
      "outputs": [
        {
          "output_type": "stream",
          "name": "stdout",
          "text": [
            "Epoch 1/300\n",
            "1/1 [==============================] - 0s 21ms/step - loss: 0.0024 - accuracy: 1.0000\n",
            "Epoch 2/300\n",
            "1/1 [==============================] - 0s 18ms/step - loss: 0.0024 - accuracy: 1.0000\n",
            "Epoch 3/300\n",
            "1/1 [==============================] - 0s 19ms/step - loss: 0.0024 - accuracy: 1.0000\n",
            "Epoch 4/300\n",
            "1/1 [==============================] - 0s 15ms/step - loss: 0.0024 - accuracy: 1.0000\n",
            "Epoch 5/300\n",
            "1/1 [==============================] - 0s 15ms/step - loss: 0.0023 - accuracy: 1.0000\n",
            "Epoch 6/300\n",
            "1/1 [==============================] - 0s 13ms/step - loss: 0.0023 - accuracy: 1.0000\n",
            "Epoch 7/300\n",
            "1/1 [==============================] - 0s 13ms/step - loss: 0.0023 - accuracy: 1.0000\n",
            "Epoch 8/300\n",
            "1/1 [==============================] - 0s 16ms/step - loss: 0.0023 - accuracy: 1.0000\n",
            "Epoch 9/300\n",
            "1/1 [==============================] - 0s 14ms/step - loss: 0.0023 - accuracy: 1.0000\n",
            "Epoch 10/300\n",
            "1/1 [==============================] - 0s 18ms/step - loss: 0.0023 - accuracy: 1.0000\n",
            "Epoch 11/300\n",
            "1/1 [==============================] - 0s 16ms/step - loss: 0.0023 - accuracy: 1.0000\n",
            "Epoch 12/300\n",
            "1/1 [==============================] - 0s 16ms/step - loss: 0.0023 - accuracy: 1.0000\n",
            "Epoch 13/300\n",
            "1/1 [==============================] - 0s 13ms/step - loss: 0.0023 - accuracy: 1.0000\n",
            "Epoch 14/300\n",
            "1/1 [==============================] - 0s 13ms/step - loss: 0.0022 - accuracy: 1.0000\n",
            "Epoch 15/300\n",
            "1/1 [==============================] - 0s 15ms/step - loss: 0.0022 - accuracy: 1.0000\n",
            "Epoch 16/300\n",
            "1/1 [==============================] - 0s 19ms/step - loss: 0.0022 - accuracy: 1.0000\n",
            "Epoch 17/300\n",
            "1/1 [==============================] - 0s 17ms/step - loss: 0.0022 - accuracy: 1.0000\n",
            "Epoch 18/300\n",
            "1/1 [==============================] - 0s 18ms/step - loss: 0.0022 - accuracy: 1.0000\n",
            "Epoch 19/300\n",
            "1/1 [==============================] - 0s 17ms/step - loss: 0.0022 - accuracy: 1.0000\n",
            "Epoch 20/300\n",
            "1/1 [==============================] - 0s 16ms/step - loss: 0.0022 - accuracy: 1.0000\n",
            "Epoch 21/300\n",
            "1/1 [==============================] - 0s 16ms/step - loss: 0.0022 - accuracy: 1.0000\n",
            "Epoch 22/300\n",
            "1/1 [==============================] - 0s 15ms/step - loss: 0.0022 - accuracy: 1.0000\n",
            "Epoch 23/300\n",
            "1/1 [==============================] - 0s 14ms/step - loss: 0.0022 - accuracy: 1.0000\n",
            "Epoch 24/300\n",
            "1/1 [==============================] - 0s 18ms/step - loss: 0.0021 - accuracy: 1.0000\n",
            "Epoch 25/300\n",
            "1/1 [==============================] - 0s 13ms/step - loss: 0.0021 - accuracy: 1.0000\n",
            "Epoch 26/300\n",
            "1/1 [==============================] - 0s 14ms/step - loss: 0.0021 - accuracy: 1.0000\n",
            "Epoch 27/300\n",
            "1/1 [==============================] - 0s 14ms/step - loss: 0.0021 - accuracy: 1.0000\n",
            "Epoch 28/300\n",
            "1/1 [==============================] - 0s 14ms/step - loss: 0.0021 - accuracy: 1.0000\n",
            "Epoch 29/300\n",
            "1/1 [==============================] - 0s 15ms/step - loss: 0.0021 - accuracy: 1.0000\n",
            "Epoch 30/300\n",
            "1/1 [==============================] - 0s 14ms/step - loss: 0.0021 - accuracy: 1.0000\n",
            "Epoch 31/300\n",
            "1/1 [==============================] - 0s 15ms/step - loss: 0.0021 - accuracy: 1.0000\n",
            "Epoch 32/300\n",
            "1/1 [==============================] - 0s 22ms/step - loss: 0.0021 - accuracy: 1.0000\n",
            "Epoch 33/300\n",
            "1/1 [==============================] - 0s 21ms/step - loss: 0.0021 - accuracy: 1.0000\n",
            "Epoch 34/300\n",
            "1/1 [==============================] - 0s 14ms/step - loss: 0.0020 - accuracy: 1.0000\n",
            "Epoch 35/300\n",
            "1/1 [==============================] - 0s 14ms/step - loss: 0.0020 - accuracy: 1.0000\n",
            "Epoch 36/300\n",
            "1/1 [==============================] - 0s 16ms/step - loss: 0.0020 - accuracy: 1.0000\n",
            "Epoch 37/300\n",
            "1/1 [==============================] - 0s 15ms/step - loss: 0.0020 - accuracy: 1.0000\n",
            "Epoch 38/300\n",
            "1/1 [==============================] - 0s 15ms/step - loss: 0.0020 - accuracy: 1.0000\n",
            "Epoch 39/300\n",
            "1/1 [==============================] - 0s 20ms/step - loss: 0.0020 - accuracy: 1.0000\n",
            "Epoch 40/300\n",
            "1/1 [==============================] - 0s 19ms/step - loss: 0.0020 - accuracy: 1.0000\n",
            "Epoch 41/300\n",
            "1/1 [==============================] - 0s 15ms/step - loss: 0.0020 - accuracy: 1.0000\n",
            "Epoch 42/300\n",
            "1/1 [==============================] - 0s 13ms/step - loss: 0.0020 - accuracy: 1.0000\n",
            "Epoch 43/300\n",
            "1/1 [==============================] - 0s 16ms/step - loss: 0.0020 - accuracy: 1.0000\n",
            "Epoch 44/300\n",
            "1/1 [==============================] - 0s 15ms/step - loss: 0.0020 - accuracy: 1.0000\n",
            "Epoch 45/300\n",
            "1/1 [==============================] - 0s 15ms/step - loss: 0.0020 - accuracy: 1.0000\n",
            "Epoch 46/300\n",
            "1/1 [==============================] - 0s 14ms/step - loss: 0.0019 - accuracy: 1.0000\n",
            "Epoch 47/300\n",
            "1/1 [==============================] - 0s 22ms/step - loss: 0.0019 - accuracy: 1.0000\n",
            "Epoch 48/300\n",
            "1/1 [==============================] - 0s 19ms/step - loss: 0.0019 - accuracy: 1.0000\n",
            "Epoch 49/300\n",
            "1/1 [==============================] - 0s 21ms/step - loss: 0.0019 - accuracy: 1.0000\n",
            "Epoch 50/300\n",
            "1/1 [==============================] - 0s 15ms/step - loss: 0.0019 - accuracy: 1.0000\n",
            "Epoch 51/300\n",
            "1/1 [==============================] - 0s 19ms/step - loss: 0.0019 - accuracy: 1.0000\n",
            "Epoch 52/300\n",
            "1/1 [==============================] - 0s 16ms/step - loss: 0.0019 - accuracy: 1.0000\n",
            "Epoch 53/300\n",
            "1/1 [==============================] - 0s 15ms/step - loss: 0.0019 - accuracy: 1.0000\n",
            "Epoch 54/300\n",
            "1/1 [==============================] - 0s 16ms/step - loss: 0.0019 - accuracy: 1.0000\n",
            "Epoch 55/300\n",
            "1/1 [==============================] - 0s 17ms/step - loss: 0.0019 - accuracy: 1.0000\n",
            "Epoch 56/300\n",
            "1/1 [==============================] - 0s 15ms/step - loss: 0.0019 - accuracy: 1.0000\n",
            "Epoch 57/300\n",
            "1/1 [==============================] - 0s 15ms/step - loss: 0.0019 - accuracy: 1.0000\n",
            "Epoch 58/300\n",
            "1/1 [==============================] - 0s 20ms/step - loss: 0.0018 - accuracy: 1.0000\n",
            "Epoch 59/300\n",
            "1/1 [==============================] - 0s 23ms/step - loss: 0.0018 - accuracy: 1.0000\n",
            "Epoch 60/300\n",
            "1/1 [==============================] - 0s 17ms/step - loss: 0.0018 - accuracy: 1.0000\n",
            "Epoch 61/300\n",
            "1/1 [==============================] - 0s 19ms/step - loss: 0.0018 - accuracy: 1.0000\n",
            "Epoch 62/300\n",
            "1/1 [==============================] - 0s 17ms/step - loss: 0.0018 - accuracy: 1.0000\n",
            "Epoch 63/300\n",
            "1/1 [==============================] - 0s 15ms/step - loss: 0.0018 - accuracy: 1.0000\n",
            "Epoch 64/300\n",
            "1/1 [==============================] - 0s 14ms/step - loss: 0.0018 - accuracy: 1.0000\n",
            "Epoch 65/300\n",
            "1/1 [==============================] - 0s 13ms/step - loss: 0.0018 - accuracy: 1.0000\n",
            "Epoch 66/300\n",
            "1/1 [==============================] - 0s 17ms/step - loss: 0.0018 - accuracy: 1.0000\n",
            "Epoch 67/300\n",
            "1/1 [==============================] - 0s 13ms/step - loss: 0.0018 - accuracy: 1.0000\n",
            "Epoch 68/300\n",
            "1/1 [==============================] - 0s 19ms/step - loss: 0.0018 - accuracy: 1.0000\n",
            "Epoch 69/300\n",
            "1/1 [==============================] - 0s 16ms/step - loss: 0.0018 - accuracy: 1.0000\n",
            "Epoch 70/300\n",
            "1/1 [==============================] - 0s 15ms/step - loss: 0.0018 - accuracy: 1.0000\n",
            "Epoch 71/300\n",
            "1/1 [==============================] - 0s 17ms/step - loss: 0.0017 - accuracy: 1.0000\n",
            "Epoch 72/300\n",
            "1/1 [==============================] - 0s 20ms/step - loss: 0.0017 - accuracy: 1.0000\n",
            "Epoch 73/300\n",
            "1/1 [==============================] - 0s 18ms/step - loss: 0.0017 - accuracy: 1.0000\n",
            "Epoch 74/300\n",
            "1/1 [==============================] - 0s 18ms/step - loss: 0.0017 - accuracy: 1.0000\n",
            "Epoch 75/300\n",
            "1/1 [==============================] - 0s 15ms/step - loss: 0.0017 - accuracy: 1.0000\n",
            "Epoch 76/300\n",
            "1/1 [==============================] - 0s 16ms/step - loss: 0.0017 - accuracy: 1.0000\n",
            "Epoch 77/300\n",
            "1/1 [==============================] - 0s 14ms/step - loss: 0.0017 - accuracy: 1.0000\n",
            "Epoch 78/300\n",
            "1/1 [==============================] - 0s 18ms/step - loss: 0.0017 - accuracy: 1.0000\n",
            "Epoch 79/300\n",
            "1/1 [==============================] - 0s 15ms/step - loss: 0.0017 - accuracy: 1.0000\n",
            "Epoch 80/300\n",
            "1/1 [==============================] - 0s 14ms/step - loss: 0.0017 - accuracy: 1.0000\n",
            "Epoch 81/300\n",
            "1/1 [==============================] - 0s 15ms/step - loss: 0.0017 - accuracy: 1.0000\n",
            "Epoch 82/300\n",
            "1/1 [==============================] - 0s 16ms/step - loss: 0.0017 - accuracy: 1.0000\n",
            "Epoch 83/300\n",
            "1/1 [==============================] - 0s 15ms/step - loss: 0.0017 - accuracy: 1.0000\n",
            "Epoch 84/300\n",
            "1/1 [==============================] - 0s 17ms/step - loss: 0.0017 - accuracy: 1.0000\n",
            "Epoch 85/300\n",
            "1/1 [==============================] - 0s 18ms/step - loss: 0.0016 - accuracy: 1.0000\n",
            "Epoch 86/300\n",
            "1/1 [==============================] - 0s 16ms/step - loss: 0.0016 - accuracy: 1.0000\n",
            "Epoch 87/300\n",
            "1/1 [==============================] - 0s 15ms/step - loss: 0.0016 - accuracy: 1.0000\n",
            "Epoch 88/300\n",
            "1/1 [==============================] - 0s 16ms/step - loss: 0.0016 - accuracy: 1.0000\n",
            "Epoch 89/300\n",
            "1/1 [==============================] - 0s 17ms/step - loss: 0.0016 - accuracy: 1.0000\n",
            "Epoch 90/300\n",
            "1/1 [==============================] - 0s 16ms/step - loss: 0.0016 - accuracy: 1.0000\n",
            "Epoch 91/300\n",
            "1/1 [==============================] - 0s 18ms/step - loss: 0.0016 - accuracy: 1.0000\n",
            "Epoch 92/300\n",
            "1/1 [==============================] - 0s 17ms/step - loss: 0.0016 - accuracy: 1.0000\n",
            "Epoch 93/300\n",
            "1/1 [==============================] - 0s 19ms/step - loss: 0.0016 - accuracy: 1.0000\n",
            "Epoch 94/300\n",
            "1/1 [==============================] - 0s 18ms/step - loss: 0.0016 - accuracy: 1.0000\n",
            "Epoch 95/300\n",
            "1/1 [==============================] - 0s 18ms/step - loss: 0.0016 - accuracy: 1.0000\n",
            "Epoch 96/300\n",
            "1/1 [==============================] - 0s 15ms/step - loss: 0.0016 - accuracy: 1.0000\n",
            "Epoch 97/300\n",
            "1/1 [==============================] - 0s 17ms/step - loss: 0.0016 - accuracy: 1.0000\n",
            "Epoch 98/300\n",
            "1/1 [==============================] - 0s 16ms/step - loss: 0.0016 - accuracy: 1.0000\n",
            "Epoch 99/300\n",
            "1/1 [==============================] - 0s 14ms/step - loss: 0.0016 - accuracy: 1.0000\n",
            "Epoch 100/300\n",
            "1/1 [==============================] - 0s 15ms/step - loss: 0.0016 - accuracy: 1.0000\n",
            "Epoch 101/300\n",
            "1/1 [==============================] - 0s 16ms/step - loss: 0.0015 - accuracy: 1.0000\n",
            "Epoch 102/300\n",
            "1/1 [==============================] - 0s 14ms/step - loss: 0.0015 - accuracy: 1.0000\n",
            "Epoch 103/300\n",
            "1/1 [==============================] - 0s 14ms/step - loss: 0.0015 - accuracy: 1.0000\n",
            "Epoch 104/300\n",
            "1/1 [==============================] - 0s 16ms/step - loss: 0.0015 - accuracy: 1.0000\n",
            "Epoch 105/300\n",
            "1/1 [==============================] - 0s 14ms/step - loss: 0.0015 - accuracy: 1.0000\n",
            "Epoch 106/300\n",
            "1/1 [==============================] - 0s 14ms/step - loss: 0.0015 - accuracy: 1.0000\n",
            "Epoch 107/300\n",
            "1/1 [==============================] - 0s 14ms/step - loss: 0.0015 - accuracy: 1.0000\n",
            "Epoch 108/300\n",
            "1/1 [==============================] - 0s 14ms/step - loss: 0.0015 - accuracy: 1.0000\n",
            "Epoch 109/300\n",
            "1/1 [==============================] - 0s 14ms/step - loss: 0.0015 - accuracy: 1.0000\n",
            "Epoch 110/300\n",
            "1/1 [==============================] - 0s 14ms/step - loss: 0.0015 - accuracy: 1.0000\n",
            "Epoch 111/300\n",
            "1/1 [==============================] - 0s 14ms/step - loss: 0.0015 - accuracy: 1.0000\n",
            "Epoch 112/300\n",
            "1/1 [==============================] - 0s 18ms/step - loss: 0.0015 - accuracy: 1.0000\n",
            "Epoch 113/300\n",
            "1/1 [==============================] - 0s 21ms/step - loss: 0.0015 - accuracy: 1.0000\n",
            "Epoch 114/300\n",
            "1/1 [==============================] - 0s 22ms/step - loss: 0.0015 - accuracy: 1.0000\n",
            "Epoch 115/300\n",
            "1/1 [==============================] - 0s 17ms/step - loss: 0.0015 - accuracy: 1.0000\n",
            "Epoch 116/300\n",
            "1/1 [==============================] - 0s 18ms/step - loss: 0.0015 - accuracy: 1.0000\n",
            "Epoch 117/300\n",
            "1/1 [==============================] - 0s 16ms/step - loss: 0.0015 - accuracy: 1.0000\n",
            "Epoch 118/300\n",
            "1/1 [==============================] - 0s 16ms/step - loss: 0.0014 - accuracy: 1.0000\n",
            "Epoch 119/300\n",
            "1/1 [==============================] - 0s 15ms/step - loss: 0.0014 - accuracy: 1.0000\n",
            "Epoch 120/300\n",
            "1/1 [==============================] - 0s 15ms/step - loss: 0.0014 - accuracy: 1.0000\n",
            "Epoch 121/300\n",
            "1/1 [==============================] - 0s 14ms/step - loss: 0.0014 - accuracy: 1.0000\n",
            "Epoch 122/300\n",
            "1/1 [==============================] - 0s 17ms/step - loss: 0.0014 - accuracy: 1.0000\n",
            "Epoch 123/300\n",
            "1/1 [==============================] - 0s 15ms/step - loss: 0.0014 - accuracy: 1.0000\n",
            "Epoch 124/300\n",
            "1/1 [==============================] - 0s 15ms/step - loss: 0.0014 - accuracy: 1.0000\n",
            "Epoch 125/300\n",
            "1/1 [==============================] - 0s 17ms/step - loss: 0.0014 - accuracy: 1.0000\n",
            "Epoch 126/300\n",
            "1/1 [==============================] - 0s 15ms/step - loss: 0.0014 - accuracy: 1.0000\n",
            "Epoch 127/300\n",
            "1/1 [==============================] - 0s 17ms/step - loss: 0.0014 - accuracy: 1.0000\n",
            "Epoch 128/300\n",
            "1/1 [==============================] - 0s 16ms/step - loss: 0.0014 - accuracy: 1.0000\n",
            "Epoch 129/300\n",
            "1/1 [==============================] - 0s 17ms/step - loss: 0.0014 - accuracy: 1.0000\n",
            "Epoch 130/300\n",
            "1/1 [==============================] - 0s 17ms/step - loss: 0.0014 - accuracy: 1.0000\n",
            "Epoch 131/300\n",
            "1/1 [==============================] - 0s 16ms/step - loss: 0.0014 - accuracy: 1.0000\n",
            "Epoch 132/300\n",
            "1/1 [==============================] - 0s 15ms/step - loss: 0.0014 - accuracy: 1.0000\n",
            "Epoch 133/300\n",
            "1/1 [==============================] - 0s 14ms/step - loss: 0.0014 - accuracy: 1.0000\n",
            "Epoch 134/300\n",
            "1/1 [==============================] - 0s 14ms/step - loss: 0.0014 - accuracy: 1.0000\n",
            "Epoch 135/300\n",
            "1/1 [==============================] - 0s 14ms/step - loss: 0.0014 - accuracy: 1.0000\n",
            "Epoch 136/300\n",
            "1/1 [==============================] - 0s 14ms/step - loss: 0.0014 - accuracy: 1.0000\n",
            "Epoch 137/300\n",
            "1/1 [==============================] - 0s 14ms/step - loss: 0.0013 - accuracy: 1.0000\n",
            "Epoch 138/300\n",
            "1/1 [==============================] - 0s 14ms/step - loss: 0.0013 - accuracy: 1.0000\n",
            "Epoch 139/300\n",
            "1/1 [==============================] - 0s 14ms/step - loss: 0.0013 - accuracy: 1.0000\n",
            "Epoch 140/300\n",
            "1/1 [==============================] - 0s 16ms/step - loss: 0.0013 - accuracy: 1.0000\n",
            "Epoch 141/300\n",
            "1/1 [==============================] - 0s 16ms/step - loss: 0.0013 - accuracy: 1.0000\n",
            "Epoch 142/300\n",
            "1/1 [==============================] - 0s 18ms/step - loss: 0.0013 - accuracy: 1.0000\n",
            "Epoch 143/300\n",
            "1/1 [==============================] - 0s 19ms/step - loss: 0.0013 - accuracy: 1.0000\n",
            "Epoch 144/300\n",
            "1/1 [==============================] - 0s 19ms/step - loss: 0.0013 - accuracy: 1.0000\n",
            "Epoch 145/300\n",
            "1/1 [==============================] - 0s 18ms/step - loss: 0.0013 - accuracy: 1.0000\n",
            "Epoch 146/300\n",
            "1/1 [==============================] - 0s 18ms/step - loss: 0.0013 - accuracy: 1.0000\n",
            "Epoch 147/300\n",
            "1/1 [==============================] - 0s 19ms/step - loss: 0.0013 - accuracy: 1.0000\n",
            "Epoch 148/300\n",
            "1/1 [==============================] - 0s 16ms/step - loss: 0.0013 - accuracy: 1.0000\n",
            "Epoch 149/300\n",
            "1/1 [==============================] - 0s 19ms/step - loss: 0.0013 - accuracy: 1.0000\n",
            "Epoch 150/300\n",
            "1/1 [==============================] - 0s 16ms/step - loss: 0.0013 - accuracy: 1.0000\n",
            "Epoch 151/300\n",
            "1/1 [==============================] - 0s 18ms/step - loss: 0.0013 - accuracy: 1.0000\n",
            "Epoch 152/300\n",
            "1/1 [==============================] - 0s 15ms/step - loss: 0.0013 - accuracy: 1.0000\n",
            "Epoch 153/300\n",
            "1/1 [==============================] - 0s 17ms/step - loss: 0.0013 - accuracy: 1.0000\n",
            "Epoch 154/300\n",
            "1/1 [==============================] - 0s 17ms/step - loss: 0.0013 - accuracy: 1.0000\n",
            "Epoch 155/300\n",
            "1/1 [==============================] - 0s 17ms/step - loss: 0.0013 - accuracy: 1.0000\n",
            "Epoch 156/300\n",
            "1/1 [==============================] - 0s 25ms/step - loss: 0.0013 - accuracy: 1.0000\n",
            "Epoch 157/300\n",
            "1/1 [==============================] - 0s 15ms/step - loss: 0.0013 - accuracy: 1.0000\n",
            "Epoch 158/300\n",
            "1/1 [==============================] - 0s 17ms/step - loss: 0.0013 - accuracy: 1.0000\n",
            "Epoch 159/300\n",
            "1/1 [==============================] - 0s 15ms/step - loss: 0.0012 - accuracy: 1.0000\n",
            "Epoch 160/300\n",
            "1/1 [==============================] - 0s 15ms/step - loss: 0.0012 - accuracy: 1.0000\n",
            "Epoch 161/300\n",
            "1/1 [==============================] - 0s 13ms/step - loss: 0.0012 - accuracy: 1.0000\n",
            "Epoch 162/300\n",
            "1/1 [==============================] - 0s 15ms/step - loss: 0.0012 - accuracy: 1.0000\n",
            "Epoch 163/300\n",
            "1/1 [==============================] - 0s 14ms/step - loss: 0.0012 - accuracy: 1.0000\n",
            "Epoch 164/300\n",
            "1/1 [==============================] - 0s 14ms/step - loss: 0.0012 - accuracy: 1.0000\n",
            "Epoch 165/300\n",
            "1/1 [==============================] - 0s 14ms/step - loss: 0.0012 - accuracy: 1.0000\n",
            "Epoch 166/300\n",
            "1/1 [==============================] - 0s 15ms/step - loss: 0.0012 - accuracy: 1.0000\n",
            "Epoch 167/300\n",
            "1/1 [==============================] - 0s 14ms/step - loss: 0.0012 - accuracy: 1.0000\n",
            "Epoch 168/300\n",
            "1/1 [==============================] - 0s 15ms/step - loss: 0.0012 - accuracy: 1.0000\n",
            "Epoch 169/300\n",
            "1/1 [==============================] - 0s 16ms/step - loss: 0.0012 - accuracy: 1.0000\n",
            "Epoch 170/300\n",
            "1/1 [==============================] - 0s 14ms/step - loss: 0.0012 - accuracy: 1.0000\n",
            "Epoch 171/300\n",
            "1/1 [==============================] - 0s 18ms/step - loss: 0.0012 - accuracy: 1.0000\n",
            "Epoch 172/300\n",
            "1/1 [==============================] - 0s 14ms/step - loss: 0.0012 - accuracy: 1.0000\n",
            "Epoch 173/300\n",
            "1/1 [==============================] - 0s 15ms/step - loss: 0.0012 - accuracy: 1.0000\n",
            "Epoch 174/300\n",
            "1/1 [==============================] - 0s 14ms/step - loss: 0.0012 - accuracy: 1.0000\n",
            "Epoch 175/300\n",
            "1/1 [==============================] - 0s 14ms/step - loss: 0.0012 - accuracy: 1.0000\n",
            "Epoch 176/300\n",
            "1/1 [==============================] - 0s 15ms/step - loss: 0.0012 - accuracy: 1.0000\n",
            "Epoch 177/300\n",
            "1/1 [==============================] - 0s 15ms/step - loss: 0.0012 - accuracy: 1.0000\n",
            "Epoch 178/300\n",
            "1/1 [==============================] - 0s 15ms/step - loss: 0.0012 - accuracy: 1.0000\n",
            "Epoch 179/300\n",
            "1/1 [==============================] - 0s 15ms/step - loss: 0.0012 - accuracy: 1.0000\n",
            "Epoch 180/300\n",
            "1/1 [==============================] - 0s 18ms/step - loss: 0.0012 - accuracy: 1.0000\n",
            "Epoch 181/300\n",
            "1/1 [==============================] - 0s 14ms/step - loss: 0.0012 - accuracy: 1.0000\n",
            "Epoch 182/300\n",
            "1/1 [==============================] - 0s 18ms/step - loss: 0.0012 - accuracy: 1.0000\n",
            "Epoch 183/300\n",
            "1/1 [==============================] - 0s 16ms/step - loss: 0.0011 - accuracy: 1.0000\n",
            "Epoch 184/300\n",
            "1/1 [==============================] - 0s 15ms/step - loss: 0.0011 - accuracy: 1.0000\n",
            "Epoch 185/300\n",
            "1/1 [==============================] - 0s 18ms/step - loss: 0.0011 - accuracy: 1.0000\n",
            "Epoch 186/300\n",
            "1/1 [==============================] - 0s 18ms/step - loss: 0.0011 - accuracy: 1.0000\n",
            "Epoch 187/300\n",
            "1/1 [==============================] - 0s 15ms/step - loss: 0.0011 - accuracy: 1.0000\n",
            "Epoch 188/300\n",
            "1/1 [==============================] - 0s 18ms/step - loss: 0.0011 - accuracy: 1.0000\n",
            "Epoch 189/300\n",
            "1/1 [==============================] - 0s 14ms/step - loss: 0.0011 - accuracy: 1.0000\n",
            "Epoch 190/300\n",
            "1/1 [==============================] - 0s 15ms/step - loss: 0.0011 - accuracy: 1.0000\n",
            "Epoch 191/300\n",
            "1/1 [==============================] - 0s 17ms/step - loss: 0.0011 - accuracy: 1.0000\n",
            "Epoch 192/300\n",
            "1/1 [==============================] - 0s 20ms/step - loss: 0.0011 - accuracy: 1.0000\n",
            "Epoch 193/300\n",
            "1/1 [==============================] - 0s 15ms/step - loss: 0.0011 - accuracy: 1.0000\n",
            "Epoch 194/300\n",
            "1/1 [==============================] - 0s 21ms/step - loss: 0.0011 - accuracy: 1.0000\n",
            "Epoch 195/300\n",
            "1/1 [==============================] - 0s 18ms/step - loss: 0.0011 - accuracy: 1.0000\n",
            "Epoch 196/300\n",
            "1/1 [==============================] - 0s 20ms/step - loss: 0.0011 - accuracy: 1.0000\n",
            "Epoch 197/300\n",
            "1/1 [==============================] - 0s 19ms/step - loss: 0.0011 - accuracy: 1.0000\n",
            "Epoch 198/300\n",
            "1/1 [==============================] - 0s 17ms/step - loss: 0.0011 - accuracy: 1.0000\n",
            "Epoch 199/300\n",
            "1/1 [==============================] - 0s 17ms/step - loss: 0.0011 - accuracy: 1.0000\n",
            "Epoch 200/300\n",
            "1/1 [==============================] - 0s 17ms/step - loss: 0.0011 - accuracy: 1.0000\n",
            "Epoch 201/300\n",
            "1/1 [==============================] - 0s 16ms/step - loss: 0.0011 - accuracy: 1.0000\n",
            "Epoch 202/300\n",
            "1/1 [==============================] - 0s 14ms/step - loss: 0.0011 - accuracy: 1.0000\n",
            "Epoch 203/300\n",
            "1/1 [==============================] - 0s 14ms/step - loss: 0.0011 - accuracy: 1.0000\n",
            "Epoch 204/300\n",
            "1/1 [==============================] - 0s 15ms/step - loss: 0.0011 - accuracy: 1.0000\n",
            "Epoch 205/300\n",
            "1/1 [==============================] - 0s 16ms/step - loss: 0.0011 - accuracy: 1.0000\n",
            "Epoch 206/300\n",
            "1/1 [==============================] - 0s 17ms/step - loss: 0.0011 - accuracy: 1.0000\n",
            "Epoch 207/300\n",
            "1/1 [==============================] - 0s 15ms/step - loss: 0.0011 - accuracy: 1.0000\n",
            "Epoch 208/300\n",
            "1/1 [==============================] - 0s 14ms/step - loss: 0.0011 - accuracy: 1.0000\n",
            "Epoch 209/300\n",
            "1/1 [==============================] - 0s 18ms/step - loss: 0.0011 - accuracy: 1.0000\n",
            "Epoch 210/300\n",
            "1/1 [==============================] - 0s 16ms/step - loss: 0.0011 - accuracy: 1.0000\n",
            "Epoch 211/300\n",
            "1/1 [==============================] - 0s 21ms/step - loss: 0.0010 - accuracy: 1.0000\n",
            "Epoch 212/300\n",
            "1/1 [==============================] - 0s 14ms/step - loss: 0.0010 - accuracy: 1.0000\n",
            "Epoch 213/300\n",
            "1/1 [==============================] - 0s 15ms/step - loss: 0.0010 - accuracy: 1.0000\n",
            "Epoch 214/300\n",
            "1/1 [==============================] - 0s 15ms/step - loss: 0.0010 - accuracy: 1.0000\n",
            "Epoch 215/300\n",
            "1/1 [==============================] - 0s 17ms/step - loss: 0.0010 - accuracy: 1.0000\n",
            "Epoch 216/300\n",
            "1/1 [==============================] - 0s 16ms/step - loss: 0.0010 - accuracy: 1.0000\n",
            "Epoch 217/300\n",
            "1/1 [==============================] - 0s 14ms/step - loss: 0.0010 - accuracy: 1.0000\n",
            "Epoch 218/300\n",
            "1/1 [==============================] - 0s 16ms/step - loss: 0.0010 - accuracy: 1.0000\n",
            "Epoch 219/300\n",
            "1/1 [==============================] - 0s 15ms/step - loss: 0.0010 - accuracy: 1.0000\n",
            "Epoch 220/300\n",
            "1/1 [==============================] - 0s 16ms/step - loss: 0.0010 - accuracy: 1.0000\n",
            "Epoch 221/300\n",
            "1/1 [==============================] - 0s 15ms/step - loss: 0.0010 - accuracy: 1.0000\n",
            "Epoch 222/300\n",
            "1/1 [==============================] - 0s 18ms/step - loss: 0.0010 - accuracy: 1.0000\n",
            "Epoch 223/300\n",
            "1/1 [==============================] - 0s 17ms/step - loss: 0.0010 - accuracy: 1.0000\n",
            "Epoch 224/300\n",
            "1/1 [==============================] - 0s 16ms/step - loss: 0.0010 - accuracy: 1.0000\n",
            "Epoch 225/300\n",
            "1/1 [==============================] - 0s 16ms/step - loss: 0.0010 - accuracy: 1.0000\n",
            "Epoch 226/300\n",
            "1/1 [==============================] - 0s 15ms/step - loss: 9.9904e-04 - accuracy: 1.0000\n",
            "Epoch 227/300\n",
            "1/1 [==============================] - 0s 17ms/step - loss: 9.9591e-04 - accuracy: 1.0000\n",
            "Epoch 228/300\n",
            "1/1 [==============================] - 0s 15ms/step - loss: 9.9280e-04 - accuracy: 1.0000\n",
            "Epoch 229/300\n",
            "1/1 [==============================] - 0s 15ms/step - loss: 9.8973e-04 - accuracy: 1.0000\n",
            "Epoch 230/300\n",
            "1/1 [==============================] - 0s 17ms/step - loss: 9.8663e-04 - accuracy: 1.0000\n",
            "Epoch 231/300\n",
            "1/1 [==============================] - 0s 18ms/step - loss: 9.8359e-04 - accuracy: 1.0000\n",
            "Epoch 232/300\n",
            "1/1 [==============================] - 0s 14ms/step - loss: 9.8055e-04 - accuracy: 1.0000\n",
            "Epoch 233/300\n",
            "1/1 [==============================] - 0s 15ms/step - loss: 9.7751e-04 - accuracy: 1.0000\n",
            "Epoch 234/300\n",
            "1/1 [==============================] - 0s 14ms/step - loss: 9.7448e-04 - accuracy: 1.0000\n",
            "Epoch 235/300\n",
            "1/1 [==============================] - 0s 16ms/step - loss: 9.7151e-04 - accuracy: 1.0000\n",
            "Epoch 236/300\n",
            "1/1 [==============================] - 0s 18ms/step - loss: 9.6847e-04 - accuracy: 1.0000\n",
            "Epoch 237/300\n",
            "1/1 [==============================] - 0s 15ms/step - loss: 9.6551e-04 - accuracy: 1.0000\n",
            "Epoch 238/300\n",
            "1/1 [==============================] - 0s 14ms/step - loss: 9.6255e-04 - accuracy: 1.0000\n",
            "Epoch 239/300\n",
            "1/1 [==============================] - 0s 15ms/step - loss: 9.5961e-04 - accuracy: 1.0000\n",
            "Epoch 240/300\n",
            "1/1 [==============================] - 0s 16ms/step - loss: 9.5667e-04 - accuracy: 1.0000\n",
            "Epoch 241/300\n",
            "1/1 [==============================] - 0s 14ms/step - loss: 9.5377e-04 - accuracy: 1.0000\n",
            "Epoch 242/300\n",
            "1/1 [==============================] - 0s 19ms/step - loss: 9.5083e-04 - accuracy: 1.0000\n",
            "Epoch 243/300\n",
            "1/1 [==============================] - 0s 19ms/step - loss: 9.4796e-04 - accuracy: 1.0000\n",
            "Epoch 244/300\n",
            "1/1 [==============================] - 0s 15ms/step - loss: 9.4507e-04 - accuracy: 1.0000\n",
            "Epoch 245/300\n",
            "1/1 [==============================] - 0s 19ms/step - loss: 9.4220e-04 - accuracy: 1.0000\n",
            "Epoch 246/300\n",
            "1/1 [==============================] - 0s 17ms/step - loss: 9.3934e-04 - accuracy: 1.0000\n",
            "Epoch 247/300\n",
            "1/1 [==============================] - 0s 14ms/step - loss: 9.3649e-04 - accuracy: 1.0000\n",
            "Epoch 248/300\n",
            "1/1 [==============================] - 0s 16ms/step - loss: 9.3365e-04 - accuracy: 1.0000\n",
            "Epoch 249/300\n",
            "1/1 [==============================] - 0s 16ms/step - loss: 9.3084e-04 - accuracy: 1.0000\n",
            "Epoch 250/300\n",
            "1/1 [==============================] - 0s 15ms/step - loss: 9.2804e-04 - accuracy: 1.0000\n",
            "Epoch 251/300\n",
            "1/1 [==============================] - 0s 14ms/step - loss: 9.2525e-04 - accuracy: 1.0000\n",
            "Epoch 252/300\n",
            "1/1 [==============================] - 0s 16ms/step - loss: 9.2246e-04 - accuracy: 1.0000\n",
            "Epoch 253/300\n",
            "1/1 [==============================] - 0s 18ms/step - loss: 9.1971e-04 - accuracy: 1.0000\n",
            "Epoch 254/300\n",
            "1/1 [==============================] - 0s 16ms/step - loss: 9.1696e-04 - accuracy: 1.0000\n",
            "Epoch 255/300\n",
            "1/1 [==============================] - 0s 16ms/step - loss: 9.1420e-04 - accuracy: 1.0000\n",
            "Epoch 256/300\n",
            "1/1 [==============================] - 0s 15ms/step - loss: 9.1150e-04 - accuracy: 1.0000\n",
            "Epoch 257/300\n",
            "1/1 [==============================] - 0s 15ms/step - loss: 9.0877e-04 - accuracy: 1.0000\n",
            "Epoch 258/300\n",
            "1/1 [==============================] - 0s 16ms/step - loss: 9.0606e-04 - accuracy: 1.0000\n",
            "Epoch 259/300\n",
            "1/1 [==============================] - 0s 16ms/step - loss: 9.0338e-04 - accuracy: 1.0000\n",
            "Epoch 260/300\n",
            "1/1 [==============================] - 0s 16ms/step - loss: 9.0066e-04 - accuracy: 1.0000\n",
            "Epoch 261/300\n",
            "1/1 [==============================] - 0s 18ms/step - loss: 8.9802e-04 - accuracy: 1.0000\n",
            "Epoch 262/300\n",
            "1/1 [==============================] - 0s 16ms/step - loss: 8.9536e-04 - accuracy: 1.0000\n",
            "Epoch 263/300\n",
            "1/1 [==============================] - 0s 19ms/step - loss: 8.9270e-04 - accuracy: 1.0000\n",
            "Epoch 264/300\n",
            "1/1 [==============================] - 0s 17ms/step - loss: 8.9009e-04 - accuracy: 1.0000\n",
            "Epoch 265/300\n",
            "1/1 [==============================] - 0s 13ms/step - loss: 8.8745e-04 - accuracy: 1.0000\n",
            "Epoch 266/300\n",
            "1/1 [==============================] - 0s 14ms/step - loss: 8.8487e-04 - accuracy: 1.0000\n",
            "Epoch 267/300\n",
            "1/1 [==============================] - 0s 18ms/step - loss: 8.8227e-04 - accuracy: 1.0000\n",
            "Epoch 268/300\n",
            "1/1 [==============================] - 0s 16ms/step - loss: 8.7969e-04 - accuracy: 1.0000\n",
            "Epoch 269/300\n",
            "1/1 [==============================] - 0s 19ms/step - loss: 8.7708e-04 - accuracy: 1.0000\n",
            "Epoch 270/300\n",
            "1/1 [==============================] - 0s 17ms/step - loss: 8.7452e-04 - accuracy: 1.0000\n",
            "Epoch 271/300\n",
            "1/1 [==============================] - 0s 16ms/step - loss: 8.7197e-04 - accuracy: 1.0000\n",
            "Epoch 272/300\n",
            "1/1 [==============================] - 0s 14ms/step - loss: 8.6944e-04 - accuracy: 1.0000\n",
            "Epoch 273/300\n",
            "1/1 [==============================] - 0s 14ms/step - loss: 8.6687e-04 - accuracy: 1.0000\n",
            "Epoch 274/300\n",
            "1/1 [==============================] - 0s 15ms/step - loss: 8.6437e-04 - accuracy: 1.0000\n",
            "Epoch 275/300\n",
            "1/1 [==============================] - 0s 14ms/step - loss: 8.6186e-04 - accuracy: 1.0000\n",
            "Epoch 276/300\n",
            "1/1 [==============================] - 0s 16ms/step - loss: 8.5937e-04 - accuracy: 1.0000\n",
            "Epoch 277/300\n",
            "1/1 [==============================] - 0s 17ms/step - loss: 8.5687e-04 - accuracy: 1.0000\n",
            "Epoch 278/300\n",
            "1/1 [==============================] - 0s 16ms/step - loss: 8.5443e-04 - accuracy: 1.0000\n",
            "Epoch 279/300\n",
            "1/1 [==============================] - 0s 16ms/step - loss: 8.5195e-04 - accuracy: 1.0000\n",
            "Epoch 280/300\n",
            "1/1 [==============================] - 0s 15ms/step - loss: 8.4951e-04 - accuracy: 1.0000\n",
            "Epoch 281/300\n",
            "1/1 [==============================] - 0s 17ms/step - loss: 8.4703e-04 - accuracy: 1.0000\n",
            "Epoch 282/300\n",
            "1/1 [==============================] - 0s 19ms/step - loss: 8.4460e-04 - accuracy: 1.0000\n",
            "Epoch 283/300\n",
            "1/1 [==============================] - 0s 18ms/step - loss: 8.4221e-04 - accuracy: 1.0000\n",
            "Epoch 284/300\n",
            "1/1 [==============================] - 0s 17ms/step - loss: 8.3977e-04 - accuracy: 1.0000\n",
            "Epoch 285/300\n",
            "1/1 [==============================] - 0s 14ms/step - loss: 8.3736e-04 - accuracy: 1.0000\n",
            "Epoch 286/300\n",
            "1/1 [==============================] - 0s 16ms/step - loss: 8.3498e-04 - accuracy: 1.0000\n",
            "Epoch 287/300\n",
            "1/1 [==============================] - 0s 15ms/step - loss: 8.3257e-04 - accuracy: 1.0000\n",
            "Epoch 288/300\n",
            "1/1 [==============================] - 0s 17ms/step - loss: 8.3024e-04 - accuracy: 1.0000\n",
            "Epoch 289/300\n",
            "1/1 [==============================] - 0s 18ms/step - loss: 8.2784e-04 - accuracy: 1.0000\n",
            "Epoch 290/300\n",
            "1/1 [==============================] - 0s 15ms/step - loss: 8.2553e-04 - accuracy: 1.0000\n",
            "Epoch 291/300\n",
            "1/1 [==============================] - 0s 18ms/step - loss: 8.2318e-04 - accuracy: 1.0000\n",
            "Epoch 292/300\n",
            "1/1 [==============================] - 0s 17ms/step - loss: 8.2085e-04 - accuracy: 1.0000\n",
            "Epoch 293/300\n",
            "1/1 [==============================] - 0s 17ms/step - loss: 8.1851e-04 - accuracy: 1.0000\n",
            "Epoch 294/300\n",
            "1/1 [==============================] - 0s 15ms/step - loss: 8.1621e-04 - accuracy: 1.0000\n",
            "Epoch 295/300\n",
            "1/1 [==============================] - 0s 19ms/step - loss: 8.1389e-04 - accuracy: 1.0000\n",
            "Epoch 296/300\n",
            "1/1 [==============================] - 0s 18ms/step - loss: 8.1162e-04 - accuracy: 1.0000\n",
            "Epoch 297/300\n",
            "1/1 [==============================] - 0s 16ms/step - loss: 8.0933e-04 - accuracy: 1.0000\n",
            "Epoch 298/300\n",
            "1/1 [==============================] - 0s 16ms/step - loss: 8.0705e-04 - accuracy: 1.0000\n",
            "Epoch 299/300\n",
            "1/1 [==============================] - 0s 16ms/step - loss: 8.0479e-04 - accuracy: 1.0000\n",
            "Epoch 300/300\n",
            "1/1 [==============================] - 0s 17ms/step - loss: 8.0253e-04 - accuracy: 1.0000\n"
          ]
        }
      ]
    },
    {
      "cell_type": "markdown",
      "source": [
        "Model Analyst"
      ],
      "metadata": {
        "id": "pIFTYYNfQHcy"
      }
    },
    {
      "cell_type": "code",
      "source": [
        "# Plotting model Accuracy and Loss (Visualisasi Plot Hasil Akurasi dan Loss)\n",
        "# Plot Akurasi\n",
        "plt.figure(figsize=(14, 5))\n",
        "plt.subplot(1, 2, 1)\n",
        "plt.plot(train.history['accuracy'],label='Training Set Accuracy')\n",
        "plt.legend(loc='lower right')\n",
        "plt.title('Accuracy')\n",
        "# Plot Loss\n",
        "plt.subplot(1, 2, 2)\n",
        "plt.plot(train.history['loss'],label='Training Set Loss')\n",
        "plt.legend(loc='upper right')\n",
        "plt.title('Loss')\n",
        "plt.show()"
      ],
      "metadata": {
        "colab": {
          "base_uri": "https://localhost:8080/",
          "height": 265
        },
        "id": "NG1sWFBrQB1r",
        "outputId": "1bcacc14-91f6-44c0-8f8d-06053b37e97d"
      },
      "execution_count": 42,
      "outputs": [
        {
          "output_type": "display_data",
          "data": {
            "text/plain": [
              "<Figure size 1400x500 with 2 Axes>"
            ],
            "image/png": "[encoded data removed]"
          },
          "metadata": {}
        }
      ]
    },
    {
      "cell_type": "markdown",
      "source": [
        "Testing chatbot"
      ],
      "metadata": {
        "id": "Wi2vTVDdQhMq"
      }
    },
    {
      "cell_type": "code",
      "source": [
        "# Membuat Input Chat\n",
        "while True:\n",
        "  texts_p = []\n",
        "  prediction_input = input('👨‍🦰 Kamu : ')\n",
        "  \n",
        "  # Menghapus punktuasi dan konversi ke huruf kecil\n",
        "  prediction_input = [letters.lower() for letters in prediction_input if letters not in string.punctuation]\n",
        "  prediction_input = ''.join(prediction_input)\n",
        "  texts_p.append(prediction_input)\n",
        "\n",
        "  # Tokenisasi dan Padding\n",
        "  prediction_input = tokenizer.texts_to_sequences(texts_p)\n",
        "  prediction_input = np.array(prediction_input).reshape(-1)\n",
        "  prediction_input = pad_sequences([prediction_input],input_shape)\n",
        "\n",
        "  # Mendapatkan hasil keluaran pada model \n",
        "  output = model.predict(prediction_input)\n",
        "  output = output.argmax()\n",
        "\n",
        "  # Menemukan respon sesuai data tag dan memainkan voice bot\n",
        "  response_tag = le.inverse_transform([output])[0]\n",
        "  print(\"🤖 PanBot : \", random.choice(responses[response_tag]))\n",
        "  tts = gTTS(random.choice(responses[response_tag]), lang='id')\n",
        "  # Simpan model voice bot ke dalam Google Drive\n",
        "  tts.save('/content/drive/MyDrive/Dataset/model/KadekBot.wav')\n",
        "  time.sleep(0.08)\n",
        "  # Load model voice bot from Google Drive\n",
        "  ipd.display(ipd.Audio('/content/drive/MyDrive/Dataset/model/KadekBot.wav', autoplay=False))\n",
        "  print(\"=\"*60 + \"\\n\")\n",
        "  # Tambahkan respon 'goodbye' agar bot bisa berhenti\n",
        "  if response_tag == \"goodbye\":\n",
        "    break"
      ],
      "metadata": {
        "colab": {
          "base_uri": "https://localhost:8080/",
          "height": 1000
        },
        "id": "meEmkxdeQefJ",
        "outputId": "b2a21b0c-28e9-49fd-ef81-220d332590a1"
      },
      "execution_count": 46,
      "outputs": [
        {
          "output_type": "stream",
          "name": "stdout",
          "text": [
            "👨‍🦰 Kamu : hy\n",
            "1/1 [==============================] - 0s 35ms/step\n",
            "🤖 PanBot :  Hallo Panbot datang, apa kabarmu hari ini ?\n"
          ]
        },
        {
          "output_type": "display_data",
          "data": {
            "text/plain": [
              "<IPython.lib.display.Audio object>"
            ],
            "text/html": [
              "\n",
              "                <audio  controls=\"controls\" >\n",
              "                    <source src=\"data:audio/x-wav;base64,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\" type=\"audio/x-wav\" />\n",
              "                    Your browser does not support the audio element.\n",
              "                </audio>\n",
              "              "
            ]
          },
          "metadata": {}
        },
        {
          "output_type": "stream",
          "name": "stdout",
          "text": [
            "============================================================\n",
            "\n",
            "👨‍🦰 Kamu : googbye\n",
            "1/1 [==============================] - 0s 25ms/step\n",
            "🤖 PanBot :  Hai! Panbot disini , mau tanya  tentang apa nih ?\n"
          ]
        },
        {
          "output_type": "display_data",
          "data": {
            "text/plain": [
              "<IPython.lib.display.Audio object>"
            ],
            "text/html": [
              "\n",
              "                <audio  controls=\"controls\" >\n",
              "                    <source src=\"data:audio/x-wav;base64,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\" type=\"audio/x-wav\" />\n",
              "                    Your browser does not support the audio element.\n",
              "                </audio>\n",
              "              "
            ]
          },
          "metadata": {}
        },
        {
          "output_type": "stream",
          "name": "stdout",
          "text": [
            "============================================================\n",
            "\n",
            "👨‍🦰 Kamu : goodbye\n",
            "1/1 [==============================] - 0s 55ms/step\n",
            "🤖 PanBot :  Hallo Panbot datang, apa kabarmu hari ini ?\n"
          ]
        },
        {
          "output_type": "display_data",
          "data": {
            "text/plain": [
              "<IPython.lib.display.Audio object>"
            ],
            "text/html": [
              "\n",
              "                <audio  controls=\"controls\" >\n",
              "                    <source src=\"data:audio/x-wav;base64,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\" type=\"audio/x-wav\" />\n",
              "                    Your browser does not support the audio element.\n",
              "                </audio>\n",
              "              "
            ]
          },
          "metadata": {}
        },
        {
          "output_type": "stream",
          "name": "stdout",
          "text": [
            "============================================================\n",
            "\n",
            "👨‍🦰 Kamu : google itu apa \n",
            "1/1 [==============================] - 0s 25ms/step\n",
            "🤖 PanBot :  panbot adalah platfrom chatbot untuk meminta informasi\n"
          ]
        },
        {
          "output_type": "display_data",
          "data": {
            "text/plain": [
              "<IPython.lib.display.Audio object>"
            ],
            "text/html": [
              "\n",
              "                <audio  controls=\"controls\" >\n",
              "                    <source src=\"data:audio/x-wav;base64,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\" type=\"audio/x-wav\" />\n",
              "                    Your browser does not support the audio element.\n",
              "                </audio>\n",
              "              "
            ]
          },
          "metadata": {}
        },
        {
          "output_type": "stream",
          "name": "stdout",
          "text": [
            "============================================================\n",
            "\n",
            "👨‍🦰 Kamu : bye\n",
            "1/1 [==============================] - 0s 25ms/step\n",
            "🤖 PanBot :  Hallo Panbot datang, apa kabarmu hari ini ?\n"
          ]
        },
        {
          "output_type": "display_data",
          "data": {
            "text/plain": [
              "<IPython.lib.display.Audio object>"
            ],
            "text/html": [
              "\n",
              "                <audio  controls=\"controls\" >\n",
              "                    <source src=\"data:audio/x-wav;base64,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\" type=\"audio/x-wav\" />\n",
              "                    Your browser does not support the audio element.\n",
              "                </audio>\n",
              "              "
            ]
          },
          "metadata": {}
        },
        {
          "output_type": "stream",
          "name": "stdout",
          "text": [
            "============================================================\n",
            "\n",
            "👨‍🦰 Kamu : goodbye\n",
            "1/1 [==============================] - 0s 26ms/step\n",
            "🤖 PanBot :  Hai! Panbot disini , mau tanya  tentang apa nih ?\n"
          ]
        },
        {
          "output_type": "display_data",
          "data": {
            "text/plain": [
              "<IPython.lib.display.Audio object>"
            ],
            "text/html": [
              "\n",
              "                <audio  controls=\"controls\" >\n",
              "                    <source src=\"data:audio/x-wav;base64,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\" type=\"audio/x-wav\" />\n",
              "                    Your browser does not support the audio element.\n",
              "                </audio>\n",
              "              "
            ]
          },
          "metadata": {}
        },
        {
          "output_type": "stream",
          "name": "stdout",
          "text": [
            "============================================================\n",
            "\n"
          ]
        },
        {
          "output_type": "stream",
          "name": "stderr",
          "text": [
            "ERROR:root:Internal Python error in the inspect module.\n",
            "Below is the traceback from this internal error.\n",
            "\n"
          ]
        },
        {
          "output_type": "stream",
          "name": "stdout",
          "text": [
            "Traceback (most recent call last):\n",
            "  File \"/usr/local/lib/python3.10/dist-packages/IPython/core/interactiveshell.py\", line 3553, in run_code\n",
            "    exec(code_obj, self.user_global_ns, self.user_ns)\n",
            "  File \"<ipython-input-46-171dfbbc1c3b>\", line 4, in <cell line: 2>\n",
            "    prediction_input = input('👨‍🦰 Kamu : ')\n",
            "  File \"/usr/local/lib/python3.10/dist-packages/ipykernel/kernelbase.py\", line 851, in raw_input\n",
            "    return self._input_request(str(prompt),\n",
            "  File \"/usr/local/lib/python3.10/dist-packages/ipykernel/kernelbase.py\", line 895, in _input_request\n",
            "    raise KeyboardInterrupt(\"Interrupted by user\") from None\n",
            "KeyboardInterrupt: Interrupted by user\n",
            "\n",
            "During handling of the above exception, another exception occurred:\n",
            "\n",
            "Traceback (most recent call last):\n",
            "  File \"/usr/local/lib/python3.10/dist-packages/IPython/core/interactiveshell.py\", line 2099, in showtraceback\n",
            "    stb = value._render_traceback_()\n",
            "AttributeError: 'KeyboardInterrupt' object has no attribute '_render_traceback_'\n",
            "\n",
            "During handling of the above exception, another exception occurred:\n",
            "\n",
            "Traceback (most recent call last):\n",
            "  File \"/usr/local/lib/python3.10/dist-packages/IPython/core/ultratb.py\", line 1101, in get_records\n",
            "    return _fixed_getinnerframes(etb, number_of_lines_of_context, tb_offset)\n",
            "  File \"/usr/local/lib/python3.10/dist-packages/IPython/core/ultratb.py\", line 248, in wrapped\n",
            "    return f(*args, **kwargs)\n",
            "  File \"/usr/local/lib/python3.10/dist-packages/IPython/core/ultratb.py\", line 281, in _fixed_getinnerframes\n",
            "    records = fix_frame_records_filenames(inspect.getinnerframes(etb, context))\n",
            "  File \"/usr/lib/python3.10/inspect.py\", line 1662, in getinnerframes\n",
            "    frameinfo = (tb.tb_frame,) + getframeinfo(tb, context)\n",
            "  File \"/usr/lib/python3.10/inspect.py\", line 1624, in getframeinfo\n",
            "    lines, lnum = findsource(frame)\n",
            "  File \"/usr/local/lib/python3.10/dist-packages/IPython/core/ultratb.py\", line 170, in findsource\n",
            "    file = getsourcefile(object) or getfile(object)\n",
            "  File \"/usr/lib/python3.10/inspect.py\", line 829, in getsourcefile\n",
            "    module = getmodule(object, filename)\n",
            "  File \"/usr/lib/python3.10/inspect.py\", line 869, in getmodule\n",
            "    if ismodule(module) and hasattr(module, '__file__'):\n",
            "KeyboardInterrupt\n"
          ]
        },
        {
          "output_type": "error",
          "ename": "TypeError",
          "evalue": "ignored",
          "traceback": [
            "\u001b[0;31m---------------------------------------------------------------------------\u001b[0m",
            "\u001b[0;31mKeyboardInterrupt\u001b[0m                         Traceback (most recent call last)",
            "    \u001b[0;31m[... skipping hidden 1 frame]\u001b[0m\n",
            "\u001b[0;32m<ipython-input-46-171dfbbc1c3b>\u001b[0m in \u001b[0;36m<cell line: 2>\u001b[0;34m()\u001b[0m\n\u001b[1;32m      3\u001b[0m   \u001b[0mtexts_p\u001b[0m \u001b[0;34m=\u001b[0m \u001b[0;34m[\u001b[0m\u001b[0;34m]\u001b[0m\u001b[0;34m\u001b[0m\u001b[0;34m\u001b[0m\u001b[0m\n\u001b[0;32m----> 4\u001b[0;31m   \u001b[0mprediction_input\u001b[0m \u001b[0;34m=\u001b[0m \u001b[0minput\u001b[0m\u001b[0;34m(\u001b[0m\u001b[0;34m'👨‍🦰 Kamu : '\u001b[0m\u001b[0;34m)\u001b[0m\u001b[0;34m\u001b[0m\u001b[0;34m\u001b[0m\u001b[0m\n\u001b[0m\u001b[1;32m      5\u001b[0m \u001b[0;34m\u001b[0m\u001b[0m\n",
            "\u001b[0;32m/usr/local/lib/python3.10/dist-packages/ipykernel/kernelbase.py\u001b[0m in \u001b[0;36mraw_input\u001b[0;34m(self, prompt)\u001b[0m\n\u001b[1;32m    850\u001b[0m             )\n\u001b[0;32m--> 851\u001b[0;31m         return self._input_request(str(prompt),\n\u001b[0m\u001b[1;32m    852\u001b[0m             \u001b[0mself\u001b[0m\u001b[0;34m.\u001b[0m\u001b[0m_parent_ident\u001b[0m\u001b[0;34m,\u001b[0m\u001b[0;34m\u001b[0m\u001b[0;34m\u001b[0m\u001b[0m\n",
            "\u001b[0;32m/usr/local/lib/python3.10/dist-packages/ipykernel/kernelbase.py\u001b[0m in \u001b[0;36m_input_request\u001b[0;34m(self, prompt, ident, parent, password)\u001b[0m\n\u001b[1;32m    894\u001b[0m                 \u001b[0;31m# re-raise KeyboardInterrupt, to truncate traceback\u001b[0m\u001b[0;34m\u001b[0m\u001b[0;34m\u001b[0m\u001b[0m\n\u001b[0;32m--> 895\u001b[0;31m                 \u001b[0;32mraise\u001b[0m \u001b[0mKeyboardInterrupt\u001b[0m\u001b[0;34m(\u001b[0m\u001b[0;34m\"Interrupted by user\"\u001b[0m\u001b[0;34m)\u001b[0m \u001b[0;32mfrom\u001b[0m \u001b[0;32mNone\u001b[0m\u001b[0;34m\u001b[0m\u001b[0;34m\u001b[0m\u001b[0m\n\u001b[0m\u001b[1;32m    896\u001b[0m             \u001b[0;32mexcept\u001b[0m \u001b[0mException\u001b[0m \u001b[0;32mas\u001b[0m \u001b[0me\u001b[0m\u001b[0;34m:\u001b[0m\u001b[0;34m\u001b[0m\u001b[0;34m\u001b[0m\u001b[0m\n",
            "\u001b[0;31mKeyboardInterrupt\u001b[0m: Interrupted by user",
            "\nDuring handling of the above exception, another exception occurred:\n",
            "\u001b[0;31mAttributeError\u001b[0m                            Traceback (most recent call last)",
            "\u001b[0;32m/usr/local/lib/python3.10/dist-packages/IPython/core/interactiveshell.py\u001b[0m in \u001b[0;36mshowtraceback\u001b[0;34m(self, exc_tuple, filename, tb_offset, exception_only, running_compiled_code)\u001b[0m\n\u001b[1;32m   2098\u001b[0m                         \u001b[0;31m# in the engines. This should return a list of strings.\u001b[0m\u001b[0;34m\u001b[0m\u001b[0;34m\u001b[0m\u001b[0m\n\u001b[0;32m-> 2099\u001b[0;31m                         \u001b[0mstb\u001b[0m \u001b[0;34m=\u001b[0m \u001b[0mvalue\u001b[0m\u001b[0;34m.\u001b[0m\u001b[0m_render_traceback_\u001b[0m\u001b[0;34m(\u001b[0m\u001b[0;34m)\u001b[0m\u001b[0;34m\u001b[0m\u001b[0;34m\u001b[0m\u001b[0m\n\u001b[0m\u001b[1;32m   2100\u001b[0m                     \u001b[0;32mexcept\u001b[0m \u001b[0mException\u001b[0m\u001b[0;34m:\u001b[0m\u001b[0;34m\u001b[0m\u001b[0;34m\u001b[0m\u001b[0m\n",
            "\u001b[0;31mAttributeError\u001b[0m: 'KeyboardInterrupt' object has no attribute '_render_traceback_'",
            "\nDuring handling of the above exception, another exception occurred:\n",
            "\u001b[0;31mTypeError\u001b[0m                                 Traceback (most recent call last)",
            "    \u001b[0;31m[... skipping hidden 1 frame]\u001b[0m\n",
            "\u001b[0;32m/usr/local/lib/python3.10/dist-packages/IPython/core/interactiveshell.py\u001b[0m in \u001b[0;36mshowtraceback\u001b[0;34m(self, exc_tuple, filename, tb_offset, exception_only, running_compiled_code)\u001b[0m\n\u001b[1;32m   2099\u001b[0m                         \u001b[0mstb\u001b[0m \u001b[0;34m=\u001b[0m \u001b[0mvalue\u001b[0m\u001b[0;34m.\u001b[0m\u001b[0m_render_traceback_\u001b[0m\u001b[0;34m(\u001b[0m\u001b[0;34m)\u001b[0m\u001b[0;34m\u001b[0m\u001b[0;34m\u001b[0m\u001b[0m\n\u001b[1;32m   2100\u001b[0m                     \u001b[0;32mexcept\u001b[0m \u001b[0mException\u001b[0m\u001b[0;34m:\u001b[0m\u001b[0;34m\u001b[0m\u001b[0;34m\u001b[0m\u001b[0m\n\u001b[0;32m-> 2101\u001b[0;31m                         stb = self.InteractiveTB.structured_traceback(etype,\n\u001b[0m\u001b[1;32m   2102\u001b[0m                                             value, tb, tb_offset=tb_offset)\n\u001b[1;32m   2103\u001b[0m \u001b[0;34m\u001b[0m\u001b[0m\n",
            "\u001b[0;32m/usr/local/lib/python3.10/dist-packages/IPython/core/ultratb.py\u001b[0m in \u001b[0;36mstructured_traceback\u001b[0;34m(self, etype, value, tb, tb_offset, number_of_lines_of_context)\u001b[0m\n\u001b[1;32m   1365\u001b[0m         \u001b[0;32melse\u001b[0m\u001b[0;34m:\u001b[0m\u001b[0;34m\u001b[0m\u001b[0;34m\u001b[0m\u001b[0m\n\u001b[1;32m   1366\u001b[0m             \u001b[0mself\u001b[0m\u001b[0;34m.\u001b[0m\u001b[0mtb\u001b[0m \u001b[0;34m=\u001b[0m \u001b[0mtb\u001b[0m\u001b[0;34m\u001b[0m\u001b[0;34m\u001b[0m\u001b[0m\n\u001b[0;32m-> 1367\u001b[0;31m         return FormattedTB.structured_traceback(\n\u001b[0m\u001b[1;32m   1368\u001b[0m             self, etype, value, tb, tb_offset, number_of_lines_of_context)\n\u001b[1;32m   1369\u001b[0m \u001b[0;34m\u001b[0m\u001b[0m\n",
            "\u001b[0;32m/usr/local/lib/python3.10/dist-packages/IPython/core/ultratb.py\u001b[0m in \u001b[0;36mstructured_traceback\u001b[0;34m(self, etype, value, tb, tb_offset, number_of_lines_of_context)\u001b[0m\n\u001b[1;32m   1265\u001b[0m         \u001b[0;32mif\u001b[0m \u001b[0mmode\u001b[0m \u001b[0;32min\u001b[0m \u001b[0mself\u001b[0m\u001b[0;34m.\u001b[0m\u001b[0mverbose_modes\u001b[0m\u001b[0;34m:\u001b[0m\u001b[0;34m\u001b[0m\u001b[0;34m\u001b[0m\u001b[0m\n\u001b[1;32m   1266\u001b[0m             \u001b[0;31m# Verbose modes need a full traceback\u001b[0m\u001b[0;34m\u001b[0m\u001b[0;34m\u001b[0m\u001b[0m\n\u001b[0;32m-> 1267\u001b[0;31m             return VerboseTB.structured_traceback(\n\u001b[0m\u001b[1;32m   1268\u001b[0m                 \u001b[0mself\u001b[0m\u001b[0;34m,\u001b[0m \u001b[0metype\u001b[0m\u001b[0;34m,\u001b[0m \u001b[0mvalue\u001b[0m\u001b[0;34m,\u001b[0m \u001b[0mtb\u001b[0m\u001b[0;34m,\u001b[0m \u001b[0mtb_offset\u001b[0m\u001b[0;34m,\u001b[0m \u001b[0mnumber_of_lines_of_context\u001b[0m\u001b[0;34m\u001b[0m\u001b[0;34m\u001b[0m\u001b[0m\n\u001b[1;32m   1269\u001b[0m             )\n",
            "\u001b[0;32m/usr/local/lib/python3.10/dist-packages/IPython/core/ultratb.py\u001b[0m in \u001b[0;36mstructured_traceback\u001b[0;34m(self, etype, evalue, etb, tb_offset, number_of_lines_of_context)\u001b[0m\n\u001b[1;32m   1122\u001b[0m         \u001b[0;34m\"\"\"Return a nice text document describing the traceback.\"\"\"\u001b[0m\u001b[0;34m\u001b[0m\u001b[0;34m\u001b[0m\u001b[0m\n\u001b[1;32m   1123\u001b[0m \u001b[0;34m\u001b[0m\u001b[0m\n\u001b[0;32m-> 1124\u001b[0;31m         formatted_exception = self.format_exception_as_a_whole(etype, evalue, etb, number_of_lines_of_context,\n\u001b[0m\u001b[1;32m   1125\u001b[0m                                                                tb_offset)\n\u001b[1;32m   1126\u001b[0m \u001b[0;34m\u001b[0m\u001b[0m\n",
            "\u001b[0;32m/usr/local/lib/python3.10/dist-packages/IPython/core/ultratb.py\u001b[0m in \u001b[0;36mformat_exception_as_a_whole\u001b[0;34m(self, etype, evalue, etb, number_of_lines_of_context, tb_offset)\u001b[0m\n\u001b[1;32m   1080\u001b[0m \u001b[0;34m\u001b[0m\u001b[0m\n\u001b[1;32m   1081\u001b[0m \u001b[0;34m\u001b[0m\u001b[0m\n\u001b[0;32m-> 1082\u001b[0;31m         \u001b[0mlast_unique\u001b[0m\u001b[0;34m,\u001b[0m \u001b[0mrecursion_repeat\u001b[0m \u001b[0;34m=\u001b[0m \u001b[0mfind_recursion\u001b[0m\u001b[0;34m(\u001b[0m\u001b[0morig_etype\u001b[0m\u001b[0;34m,\u001b[0m \u001b[0mevalue\u001b[0m\u001b[0;34m,\u001b[0m \u001b[0mrecords\u001b[0m\u001b[0;34m)\u001b[0m\u001b[0;34m\u001b[0m\u001b[0;34m\u001b[0m\u001b[0m\n\u001b[0m\u001b[1;32m   1083\u001b[0m \u001b[0;34m\u001b[0m\u001b[0m\n\u001b[1;32m   1084\u001b[0m         \u001b[0mframes\u001b[0m \u001b[0;34m=\u001b[0m \u001b[0mself\u001b[0m\u001b[0;34m.\u001b[0m\u001b[0mformat_records\u001b[0m\u001b[0;34m(\u001b[0m\u001b[0mrecords\u001b[0m\u001b[0;34m,\u001b[0m \u001b[0mlast_unique\u001b[0m\u001b[0;34m,\u001b[0m \u001b[0mrecursion_repeat\u001b[0m\u001b[0;34m)\u001b[0m\u001b[0;34m\u001b[0m\u001b[0;34m\u001b[0m\u001b[0m\n",
            "\u001b[0;32m/usr/local/lib/python3.10/dist-packages/IPython/core/ultratb.py\u001b[0m in \u001b[0;36mfind_recursion\u001b[0;34m(etype, value, records)\u001b[0m\n\u001b[1;32m    380\u001b[0m     \u001b[0;31m# first frame (from in to out) that looks different.\u001b[0m\u001b[0;34m\u001b[0m\u001b[0;34m\u001b[0m\u001b[0m\n\u001b[1;32m    381\u001b[0m     \u001b[0;32mif\u001b[0m \u001b[0;32mnot\u001b[0m \u001b[0mis_recursion_error\u001b[0m\u001b[0;34m(\u001b[0m\u001b[0metype\u001b[0m\u001b[0;34m,\u001b[0m \u001b[0mvalue\u001b[0m\u001b[0;34m,\u001b[0m \u001b[0mrecords\u001b[0m\u001b[0;34m)\u001b[0m\u001b[0;34m:\u001b[0m\u001b[0;34m\u001b[0m\u001b[0;34m\u001b[0m\u001b[0m\n\u001b[0;32m--> 382\u001b[0;31m         \u001b[0;32mreturn\u001b[0m \u001b[0mlen\u001b[0m\u001b[0;34m(\u001b[0m\u001b[0mrecords\u001b[0m\u001b[0;34m)\u001b[0m\u001b[0;34m,\u001b[0m \u001b[0;36m0\u001b[0m\u001b[0;34m\u001b[0m\u001b[0;34m\u001b[0m\u001b[0m\n\u001b[0m\u001b[1;32m    383\u001b[0m \u001b[0;34m\u001b[0m\u001b[0m\n\u001b[1;32m    384\u001b[0m     \u001b[0;31m# Select filename, lineno, func_name to track frames with\u001b[0m\u001b[0;34m\u001b[0m\u001b[0;34m\u001b[0m\u001b[0m\n",
            "\u001b[0;31mTypeError\u001b[0m: object of type 'NoneType' has no len()"
          ]
        }
      ]
    },
    {
      "cell_type": "code",
      "source": [
        "# Simpan model dalam bentuk format file .h5 atau .pkl (pickle)\n",
        "model.save('chat_model.h5')\n",
        "\n",
        "print('Model Created Successfully!')"
      ],
      "metadata": {
        "id": "ujwbcHGnSVI4"
      },
      "execution_count": null,
      "outputs": []
    }
  ]
}